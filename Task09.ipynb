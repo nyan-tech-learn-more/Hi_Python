{
  "nbformat": 4,
  "nbformat_minor": 0,
  "metadata": {
    "colab": {
      "provenance": [],
      "authorship_tag": "ABX9TyMx8ORDkWcD8nQG/oT5W4Q1",
      "include_colab_link": true
    },
    "kernelspec": {
      "name": "python3",
      "display_name": "Python 3"
    },
    "language_info": {
      "name": "python"
    }
  },
  "cells": [
    {
      "cell_type": "markdown",
      "metadata": {
        "id": "view-in-github",
        "colab_type": "text"
      },
      "source": [
        "<a href=\"https://colab.research.google.com/github/nyan-tech-learn-more/Hi_Python/blob/main/Task09.ipynb\" target=\"_parent\"><img src=\"https://colab.research.google.com/assets/colab-badge.svg\" alt=\"Open In Colab\"/></a>"
      ]
    },
    {
      "cell_type": "markdown",
      "source": [
        "請建立一個 Github Repo 與 Colab 綁定（名稱自訂），\n",
        "並且根據以下範例完成資料收集後 Commit 成第一個版本。\n",
        "第一個步驟請利用 聯合新聞網 作為主要的文本來源，將範例收集回來的新聞內文存在一個 List 容器變數 `news` 內。"
      ],
      "metadata": {
        "id": "vEeL90kWsI-P"
      }
    },
    {
      "cell_type": "code",
      "execution_count": 3,
      "metadata": {
        "colab": {
          "base_uri": "https://localhost:8080/"
        },
        "id": "-vJ7z5iilD7s",
        "outputId": "9d5e5c63-8857-43d9-939b-877badf19a82"
      },
      "outputs": [
        {
          "output_type": "stream",
          "name": "stdout",
          "text": [
            "['比較少見的姓氏較容易讓人搞混，日前有位姓「翁」的女網友指出，她去取餐時，對方問她「貴姓」，她回答「富翁的翁」，店員卻一臉困惑，直到她詢問「有姓郭的嗎？」店員才馬上說「有」，讓原PO十分無奈喊「沒關係，我習慣了！」也有網友建議她可以說「我姓『不倒翁的翁』」。 \\r 一名網友在臉書社團「爆怨2公社」發文表示，她打電話到餐廳訂餐，要去取餐時，對方詢問「請問貴姓？」她回應「我姓翁，富翁的翁」，店員回應「喔……」且看著外帶餐點，帶著困惑的表情，讓原PO無奈回「那這些餐點有姓郭的嗎？」店員馬上回應「有的」，並指向其中一袋，核對餐點無誤之後，原PO坦言「沒關係，我習慣了，但我還是想抱怨一下」。            \\r 文章曝光後，網友回應「我之前也說我姓『蔡』，對方回我『葉小姐嗎？』」、「我也都說我姓富翁的『翁』，對方在我面前直接寫上『歐』」、「上次我跟櫃台說我姓胡、古月胡，對方回應我『古小姐妳好』」、「我姓『林』，常被說成姓『李』」、「我都說我姓田，田橋仔的田，哈哈哈」、「我都說我姓『不倒翁的翁』，這樣比較不會錯，但會聽錯的人就是會聽錯」、「我朋友姓『翟』，從來沒有店員寫對過，索性她之後訂位都講姓黃、姓李、姓陳」、「我之前說我姓『草頭黃』，對方直接叫我『草先生』」。     店員 餐廳', '高雄橋頭區27歲蘇姓男子6日開車失控，在橋頭區撞上一間建材行後起火，蘇男成功脫困，但近日脫困影片在網路瘋傳，蘇下車時「全裸」掀起討論，網友推測是遭人押走逃離，或是偷情來不及穿衣，不過警方今還原經過，蘇男「全裸」開車連父母都不解，已採尿送驗。 \\r 警方調查，6日下午4時許，蘇男開車行經橋頭區甲昌路，不明何故自撞路邊房屋，造成身上多處擦挫傷，所幸並無大礙。            \\r 警方到場後，蘇男全裸站在路旁，施測後並無酒駕，近日該段車禍影片在網路瘋傳，只見蘇男高速撞上高雄一間建材行，現場瞬間燃起火光，雜物四散。 \\r 後來，有居民衝上前幫忙拉開車門，沒料蘇男一下車竟全身光裸，急著保護重要部位跑下車，並未受嚴重傷勢。 \\r 影片曝光後網友熱議，推測全裸原因可能是被被押走脫光，或是偷情被抓包，衣服來不及穿，逃跑不慎才撞上。 \\r 據了解，事故發生後，警方通知蘇男父母到案，毀損轎車為蘇母所有，當天蘇疑是要開車返家，沒料失控自撞，只是為何全裸開車，連父母都不解，直言近幾天蘇男精神恍惚，疑似「卡到陰」，但也不知原因。 \\r 為釐清蘇男是否為服用藥物導致，當天警方取得父母同意後，已對蘇男採尿，等候化驗釐清。蘇男車禍自撞，轎車幾乎全毀，所幸未受重傷。記者張議晨／翻攝蘇男車禍自撞後全裸逃下車，影片曝光引起網友熱議。取自爆料公社     全裸 影片 父母 自撞 車禍', '屏東縣東港籍漁船「鴻興漁號」3日出海後失聯，海巡今中午在貓鼻頭西南方45海浬發現「鴻」船身影，詭異的是，海巡廣播船上3人都不回應，派員登船後，確認人員均安，但全案諸多疑點，正連人帶船「押」往海巡興達基地，海巡對於案情三緘其口，稱已報請檢察官指揮，釐清相關案情。 \\r 「鴻」船最後出現的位置是貓鼻頭西方18.5海浬處，航向218度、航速7.4節，家屬苦等不到陳姓船長訊息，6日晚間向海巡署報案，隔天在屏東縣長周春米臉書留言求助，海巡展開救援。            \\r 今中午11時許，海巡「巡護七號」率先接近，但「鴻」船獲救後詭異舉動多，其一為海巡人員廣播時，船員不像失聯獲救的船員雀躍，船上雖有人員活動，陳姓船長卻未回應海巡艦的鳴笛、廣播，巡護七號伴航一段後，派員登船確認陳男及二名員工均安。 \\r 第二，「失聯」原因海巡對外宣稱是「鴻」發電機故障，導致無法通聯，但有別於過往救援船隻這類「好人好事」新聞會多加披露，此次海巡卻顯得低調，有別於常態。 \\r 第三，依據往例，獲救的漁船若未涉及不法，基於便利性一般會拖帶回出發地漁港為主，「鴻」卻罕見由海巡艦伴航駛往高雄興達港基地，且主偵單位由偵防分署轄下負責查緝走私的查緝隊負責，對於案情、船上狀況，海巡人員均未多談。 \\r 今晚8時許，陳男兒子以為「鴻」船會拖帶回東港漁港，跑到安檢所等候，不僅未等到好消息，聽到父親連人帶船正前往興達港海巡基地，沒待多久就離開。屏東縣東港籍「鴻興漁」船失聯多日，海巡署巡護七號今天發現後，確認船上3人人員均安。記者劉星君／攝影屏東縣東港籍「鴻興漁」船失聯多日，海巡署巡護七號今天發現後，確認船上3人人員均安。記者劉星君／攝影海巡隊今天上午搜尋情況。圖／海巡署提供     失聯 海巡署', '大甲媽祖遶境進香隊伍今天午間離開雲林縣境進入目的地的嘉義新港奉天宮，下午即傳出新港奉天宮入口大街的大型牌樓發生火警，牌樓的木雕起火燃燒，消防隊據報趕往灌救，起火原因待查。 \\r 新港奉天宮前宮廟大街的高大牌樓，下午被發現冒出濃煙，過不久木雕部分即開始起火燃燒，當場很多民眾趕緊拿手機拍攝，消防隊也很快趕到救火，對於大甲媽祖到來，牌樓起火也引起議論，起火原因是否施放煙火所致，仍進一步調查。大甲媽祖即將抵達新港奉天宮，不料廟前大牌樓突然起火，引起注目。記者蔡維斌／翻攝                大甲媽祖 新港奉天宮 遶境']\n"
          ]
        }
      ],
      "source": [
        "\n",
        "import requests\n",
        "from bs4 import BeautifulSoup\n",
        "\n",
        "# 利用 requests 對 API 來源發送一個請求\n",
        "response = requests.get('https://udn.com/news/breaknews/1')\n",
        "soup = BeautifulSoup(response.text)\n",
        "\n",
        "\n",
        "#Your Code # 定義變數名稱\n",
        "news = [] #list 建立一個空的 List 容器來存放新聞內容\n",
        "\n",
        "for link in soup.find_all('h3', class_='rounded-thumb__title')[:4]:\n",
        "  news_url = link.a['href']\n",
        "  news_response = requests.get('https://udn.com' + news_url)\n",
        "  news_soup = BeautifulSoup(news_response.text)\n",
        "  news_content = news_soup.find('div', class_='article-content__paragraph').text.strip().replace('\\n', ' ')\n",
        "  #處理完後把new_content結果放回news\n",
        "  news.append(news_content)\n",
        "print(news)"
      ]
    },
    {
      "cell_type": "code",
      "source": [
        "#在 Colab 中使用 pip 安裝 `jieba` 斷詞套件與相關工具。Hint：指令前加上 ! 符號即可在 Colab 中執行 pip 指令\n",
        "#安裝 Jieba 中文套件\n",
        "!pip install jieba\n",
        "\n",
        "# 下載官方字典檔\n",
        "!wget https://raw.githubusercontent.com/fxsjy/jieba/master/extra_dict/dict.txt.big\n",
        "\n",
        "# 載入套件與字典檔\n",
        "import jieba\n",
        "jieba.load_userdict(\"dict.txt.big\")\n"
      ],
      "metadata": {
        "id": "k7Mt7II-n_XN"
      },
      "execution_count": null,
      "outputs": []
    },
    {
      "cell_type": "markdown",
      "source": [
        "請將每篇新聞文章斷詞後的結果存入 `tokens` 變數，並且將斷詞後的結果計算成每個單字的出現次數（詞頻），並存成以「出現單字為 KEY、出現次數為 Value」的 dict 型態變數 `word_count`。成功完成這個動作後，請 Commit 成一個新的版本："
      ],
      "metadata": {
        "id": "wIynj7FW4f09"
      }
    },
    {
      "cell_type": "code",
      "source": [
        "\n",
        "import requests\n",
        "from bs4 import BeautifulSoup\n",
        "\n",
        "# 利用 requests 對 API 來源發送一個請求\n",
        "response = requests.get('https://udn.com/news/breaknews/1')\n",
        "soup = BeautifulSoup(response.text)\n",
        "\n",
        "\n",
        "#Your Code # 定義變數名稱\n",
        "news = [] #list 建立一個空的 List 容器來存放新聞內容\n",
        "\n",
        "for link in soup.find_all('h3', class_='rounded-thumb__title')[:4]:\n",
        "  news_url = link.a['href']\n",
        "  news_response = requests.get('https://udn.com' + news_url)\n",
        "  news_soup = BeautifulSoup(news_response.text)\n",
        "  news_content = news_soup.find('div', class_='article-content__paragraph').text.strip().replace('\\n', ' ')\n",
        "  #處理完後把new_content結果放回news\n",
        "  news.append(news_content)\n",
        "print(news)\n",
        "\n",
        "\n",
        "#在 Colab 中使用 pip 安裝 `jieba` 斷詞套件與相關工具。Hint：指令前加上 ! 符號即可在 Colab 中執行 pip 指令\n",
        "#安裝 Jieba 中文套件\n",
        "\n",
        "!pip install jieba\n",
        "\n",
        "# 下載官方字典檔\n",
        "!wget https://raw.githubusercontent.com/fxsjy/jieba/master/extra_dict/dict.txt.big\n",
        "\n",
        "# 載入套件與字典檔\n",
        "import jieba\n",
        "jieba.load_userdict(\"dict.txt.big\")\n",
        "\n",
        "\n",
        "# 精確模式斷詞\n",
        "''' Your Code # 定義變數名稱'''\n",
        "for d in news:\n",
        "  token = list(jieba.cut(d, HMM=False)) # token = d 字串斷詞結果\n",
        "  '''\n",
        "  Your Code\n",
        "  '''\n",
        "\n",
        "word_count = {}\n",
        "'''\n",
        "Your Code # 將斷詞後的結果計算成每個單字的出現次數（詞頻）\n",
        "'''\n",
        "\n",
        "print(word_count)\n",
        "# {'聲明': 4, '主管機關': 3, ...}"
      ],
      "metadata": {
        "id": "Qi2IleA24g8d"
      },
      "execution_count": null,
      "outputs": []
    }
  ]
}